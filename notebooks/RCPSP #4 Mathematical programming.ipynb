{
 "cells": [
  {
   "cell_type": "markdown",
   "id": "2abb0ff7",
   "metadata": {},
   "source": [
    "# Solve RCPSP by mathematical programming"
   ]
  },
  {
   "cell_type": "markdown",
   "id": "7f1194ac",
   "metadata": {},
   "source": [
    "In this notebook, we will study how to model RCPSP in different mathematical language leading to 2 different way of solving the RCPSP problem.\n",
    "The two modelling we will be using are : \n",
    "- Mixed Integer Linear Programming\n",
    "- Constraint Programming\n",
    "\n"
   ]
  },
  {
   "cell_type": "markdown",
   "id": "be070e03",
   "metadata": {},
   "source": [
    "# MILP\n",
    "Linear programming is a paradigm to model optimisation problem where the objective function and constraints are linear in terms of the variables : \n",
    "\n",
    "$ y = max_{x}(c^t.x) $\n",
    "such that $A.x \\leq b $, $x"
   ]
  },
  {
   "cell_type": "code",
   "execution_count": null,
   "id": "bbe176a2",
   "metadata": {},
   "outputs": [],
   "source": []
  }
 ],
 "metadata": {
  "kernelspec": {
   "display_name": "open_source_do",
   "language": "python",
   "name": "open_source_do"
  },
  "language_info": {
   "codemirror_mode": {
    "name": "ipython",
    "version": 3
   },
   "file_extension": ".py",
   "mimetype": "text/x-python",
   "name": "python",
   "nbconvert_exporter": "python",
   "pygments_lexer": "ipython3",
   "version": "3.8.13"
  }
 },
 "nbformat": 4,
 "nbformat_minor": 5
}
