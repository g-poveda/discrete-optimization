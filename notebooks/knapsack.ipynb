{
 "cells": [
  {
   "cell_type": "markdown",
   "id": "1d78f810",
   "metadata": {},
   "source": [
    "# Knapsack problem\n",
    "This is a very common combinatorial optimisation problem where you are given a knapsack of a given weight capacity $C$ and a bunch of items with values and weight. The goal is to fill the knapsack with the best aggregated value, respecting the weight constraint.\n",
    "\n",
    "![knapsack problem illustration](https://upload.wikimedia.org/wikipedia/commons/f/fd/Knapsack.svg \"Image from wikipedia: https://commons.wikimedia.org/wiki/File:Knapsack.svg\").\n",
    "\n",
    "We handle here the *0-1 knapsack problem* where each item can only be taken once.\n",
    "\n",
    "\n",
    "[explanation about choices of usecases and solvers needed]"
   ]
  },
  {
   "cell_type": "markdown",
   "id": "57f968f2",
   "metadata": {},
   "source": [
    "## Prerequisites\n",
    "\n",
    "Before running this notebook, you need to \n",
    "- install [minizinc](https://www.minizinc.org/) and config it so that it is found by the jupyter kernel (on linux, it means updating the `PATH` variable)\n",
    "- install discrete-optimization in your jupyter kernel\n",
    "    ```\n",
    "    pip install discrete-optimization\n",
    "    ```\n",
    "\n"
   ]
  },
  {
   "cell_type": "markdown",
   "id": "67aef81b",
   "metadata": {},
   "source": [
    "### Imports"
   ]
  },
  {
   "cell_type": "code",
   "execution_count": null,
   "id": "1d9d36f5",
   "metadata": {},
   "outputs": [],
   "source": [
    "import nest_asyncio\n",
    "import logging\n",
    "import time\n",
    "from pprint import pprint\n",
    "\n",
    "from discrete_optimization.datasets import fetch_data_from_coursera\n",
    "from discrete_optimization.knapsack.knapsack_model import (\n",
    "    KnapsackModel,\n",
    "    KnapsackSolution,\n",
    ")\n",
    "from discrete_optimization.knapsack.solvers import (\n",
    "    cp_solvers,\n",
    "    lp_solvers,\n",
    "    greedy_solvers,\n",
    ")\n",
    "from discrete_optimization.knapsack.knapsack_parser import (\n",
    "    get_data_available,\n",
    "    parse_file,\n",
    ")\n",
    "from discrete_optimization.knapsack.solvers.lp_solvers import (\n",
    "    LPKnapsack,\n",
    "    LPKnapsackCBC,\n",
    "    MilpSolverName,\n",
    "    ParametersMilp,\n",
    ")\n",
    "from discrete_optimization.generic_tools.cp_tools import ParametersCP, CPSolverName\n",
    "from discrete_optimization.knapsack.solvers.cp_solvers import (\n",
    "    CPKnapsackMZN2,\n",
    ")\n",
    "from discrete_optimization.generic_tools.do_problem import get_default_objective_setup\n",
    "from discrete_optimization.knapsack.solvers.knapsack_lns_cp_solver import (\n",
    "    ConstraintHandlerKnapsack,\n",
    ")\n",
    "from discrete_optimization.knapsack.solvers.knapsack_lns_solver import (\n",
    "    InitialKnapsackMethod,\n",
    "    InitialKnapsackSolution,\n",
    ")\n",
    "from discrete_optimization.generic_tools.lns_cp import LNS_CP\n",
    "\n",
    "# patch asyncio so that applications using async functions can run in jupyter\n",
    "nest_asyncio.apply()\n",
    "\n",
    "# set logging level\n",
    "logging.basicConfig(level=logging.INFO)"
   ]
  },
  {
   "cell_type": "markdown",
   "id": "e2cb9e88",
   "metadata": {},
   "source": [
    "### Download datasets\n",
    "\n",
    "If not yet available, we import the datasets from [coursera](https://github.com/discreteoptimization/assignment)."
   ]
  },
  {
   "cell_type": "code",
   "execution_count": null,
   "id": "f4df9bb9",
   "metadata": {},
   "outputs": [],
   "source": [
    "needed_datasets = [\"ks_60_0\", \"ks_500_0\"]\n",
    "files_available_paths = get_data_available()\n",
    "\n",
    "download_needed = False\n",
    "for dataset in needed_datasets:\n",
    "    if len([f for f in files_available_paths if dataset in f]) == 0:\n",
    "        download_needed = True\n",
    "        break\n",
    "\n",
    "if download_needed:\n",
    "    fetch_data_from_coursera()"
   ]
  },
  {
   "cell_type": "markdown",
   "id": "9db3b70d",
   "metadata": {},
   "source": [
    "## Small example: 60 items\n",
    "\n",
    "To begin with, we use the dataset [ks_60_0](https://github.com/discreteoptimization/assignment/blob/master/knapsack/data/ks_60_0) from coursera."
   ]
  },
  {
   "cell_type": "markdown",
   "id": "e226b613",
   "metadata": {},
   "source": [
    "### Parse input data"
   ]
  },
  {
   "cell_type": "markdown",
   "id": "3dfa73d4",
   "metadata": {},
   "source": [
    "We parse the dataset file to load it as a discrete-optimization problem. In this case we get a `discrete_optimization.knapsack.knapsack_model.KnapsackModel`."
   ]
  },
  {
   "cell_type": "code",
   "execution_count": null,
   "id": "499a6964",
   "metadata": {},
   "outputs": [],
   "source": [
    "files_available_paths = get_data_available()\n",
    "model_file = [f for f in files_available_paths if \"ks_60_0\" in f][0]\n",
    "model = parse_file(model_file, force_recompute_values=True)\n",
    "print(type(model))"
   ]
  },
  {
   "cell_type": "markdown",
   "id": "6a60783e",
   "metadata": {},
   "source": [
    "Here is a representation of the corresponding model."
   ]
  },
  {
   "cell_type": "code",
   "execution_count": null,
   "id": "8aad02d5",
   "metadata": {
    "scrolled": true
   },
   "outputs": [],
   "source": [
    "print(model)"
   ]
  },
  {
   "cell_type": "markdown",
   "id": "1f2d5a36",
   "metadata": {},
   "source": [
    "We can get a first solution which respect the constraint (but of course is not optimal) by not taking any item.\n",
    "\n",
    "In the following representation of a solution:\n",
    "- \"Value\" is the aggregated values of the taken items, \n",
    "- \"Weight\" is the aggregated weight of the taken items, which should respect the knapsack capacity constraint\n",
    "- \"Taken\" is a list of number of items taken for each type. For instance [0, 1, 0, ...] means that\n",
    "  - item 0 is not taken\n",
    "  - item 1 is taken\n",
    "  - item 2 is not taken\n",
    "  - ..."
   ]
  },
  {
   "cell_type": "code",
   "execution_count": null,
   "id": "b4a33e95",
   "metadata": {},
   "outputs": [],
   "source": [
    "solution = model.get_dummy_solution()\n",
    "print(solution)"
   ]
  },
  {
   "cell_type": "markdown",
   "id": "dda53516",
   "metadata": {},
   "source": [
    "### Solve"
   ]
  },
  {
   "cell_type": "markdown",
   "id": "5a2928fa",
   "metadata": {},
   "source": [
    "#### Greedy solver\n",
    "\n",
    "[we need a small description here. And why to choose this one.]\n",
    "\n",
    "The first solver we try here is the greedy solver which is very fast but sub-optimal. The solution it will find is not necessarily the best possible solution, but it will respect the constraints.\n",
    "\n",
    "The greedy method consists in sorting the items by density and trying to fill the knapsack starting by the denser items. We stop when further items cannot respect the capacity constraint.\n",
    "\n",
    "In this version we also try to penalize heavy items by using a modified density penalized by the item weight, in order to avoid having the knapsack filled with very few items. The compute a solution for each density version and the one giving the best value is selected."
   ]
  },
  {
   "cell_type": "markdown",
   "id": "f6dbc6a6",
   "metadata": {},
   "source": [
    "We first intialize the solver."
   ]
  },
  {
   "cell_type": "code",
   "execution_count": null,
   "id": "e4433a96",
   "metadata": {},
   "outputs": [],
   "source": [
    "greedy_solver = greedy_solvers.GreedyBest(knapsack_model=model)"
   ]
  },
  {
   "cell_type": "markdown",
   "id": "fad07445",
   "metadata": {},
   "source": [
    "We run it."
   ]
  },
  {
   "cell_type": "code",
   "execution_count": null,
   "id": "59db1888",
   "metadata": {},
   "outputs": [],
   "source": [
    "results_greedy = greedy_solver.solve()"
   ]
  },
  {
   "cell_type": "markdown",
   "id": "e8eac3c8",
   "metadata": {},
   "source": [
    "We retrieve and display the best solution found by the greedy solver."
   ]
  },
  {
   "cell_type": "code",
   "execution_count": null,
   "id": "01dc74d6",
   "metadata": {},
   "outputs": [],
   "source": [
    "print(results_greedy.get_best_solution())"
   ]
  },
  {
   "cell_type": "markdown",
   "id": "4c5705e2",
   "metadata": {},
   "source": [
    "#### LP solver: Branch-and-Cut\n",
    "\n",
    "[we need a small description here. And why to choose this one.]\n",
    "\n",
    "We use here a solver which is a wrap around CBC solver of [mip python library](https://python-mip.readthedocs.io/en/latest/intro.html), itself a wrap around [COIN-OR Branch-and-Cut solver - CBC](https://github.com/coin-or/Cbc).\n",
    "This is a solver of the family of Linear Programming (LP) solvers.\n",
    "Unlike the previous one, this is an exact solver, which means it will find the actual optimum.\n"
   ]
  },
  {
   "cell_type": "code",
   "execution_count": null,
   "id": "3c3c00f3",
   "metadata": {},
   "outputs": [],
   "source": [
    "lp_solver_cbc = LPKnapsack(knapsack_model=model, milp_solver_name=MilpSolverName.CBC)"
   ]
  },
  {
   "cell_type": "code",
   "execution_count": null,
   "id": "3d601396",
   "metadata": {},
   "outputs": [],
   "source": [
    "params_milp = ParametersMilp(\n",
    "    time_limit=100,\n",
    "    pool_solutions=10000,\n",
    "    mip_gap_abs=0.0001,\n",
    "    mip_gap=0.001,\n",
    "    retrieve_all_solution=False,\n",
    "    n_solutions_max=10000,\n",
    ")\n",
    "results_cbc = lp_solver_cbc.solve(parameters_milp=params_milp)"
   ]
  },
  {
   "cell_type": "code",
   "execution_count": null,
   "id": "511f1d03",
   "metadata": {},
   "outputs": [],
   "source": [
    "print(results_cbc.get_best_solution())"
   ]
  },
  {
   "cell_type": "markdown",
   "id": "766676ab",
   "metadata": {},
   "source": [
    "#### LP solver: Gurobi  (optional)\n",
    "\n",
    "If you have a license for [gurobi](https://www.gurobi.com/), you can also use it to solve the knapsack problem. "
   ]
  },
  {
   "cell_type": "code",
   "execution_count": null,
   "id": "f4ef5d48",
   "metadata": {
    "scrolled": true
   },
   "outputs": [],
   "source": [
    "lp_solver_gurobi = LPKnapsack(knapsack_model=model, milp_solver_name=MilpSolverName.GRB)\n",
    "params_milp = ParametersMilp(\n",
    "    time_limit=100,\n",
    "    pool_solutions=10000,\n",
    "    mip_gap_abs=0.0001,\n",
    "    mip_gap=0.001,\n",
    "    retrieve_all_solution=False,\n",
    "    n_solutions_max=10000,\n",
    ")\n",
    "results_gurobi = lp_solver_gurobi.solve(parameters_milp=params_milp)"
   ]
  },
  {
   "cell_type": "code",
   "execution_count": null,
   "id": "e0d43098",
   "metadata": {},
   "outputs": [],
   "source": [
    "print(results_gurobi.get_best_solution())"
   ]
  },
  {
   "cell_type": "markdown",
   "id": "a6c82d80",
   "metadata": {},
   "source": [
    "## Bigger problem : 500 items\n",
    "\n",
    "We try now to deal with a bigger example corresponding to ks_500_0 file. This is known to have optimal value \"54939\"."
   ]
  },
  {
   "cell_type": "markdown",
   "id": "e7f33d9e",
   "metadata": {},
   "source": [
    "### Parse input data"
   ]
  },
  {
   "cell_type": "code",
   "execution_count": null,
   "id": "94c9cdce",
   "metadata": {},
   "outputs": [],
   "source": [
    "files_available_paths = get_data_available()\n",
    "model_file = [f for f in files_available_paths if \"ks_500_0\" in f][0]\n",
    "big_model = parse_file(model_file, force_recompute_values=True)"
   ]
  },
  {
   "cell_type": "markdown",
   "id": "3c7ec0ad",
   "metadata": {},
   "source": [
    "### Solve"
   ]
  },
  {
   "cell_type": "markdown",
   "id": "1bdad412",
   "metadata": {},
   "source": [
    "#### LP solver: Branch-and-Cut\n",
    "\n",
    "We try again the CBC solver.\n",
    "\n",
    "[why not the greedy one?]"
   ]
  },
  {
   "cell_type": "code",
   "execution_count": null,
   "id": "f76387b6",
   "metadata": {},
   "outputs": [],
   "source": [
    "lp_solver_cbc = LPKnapsack(\n",
    "    knapsack_model=big_model, milp_solver_name=MilpSolverName.CBC\n",
    ")\n",
    "params_milp = ParametersMilp(\n",
    "    time_limit=100,\n",
    "    pool_solutions=10000,\n",
    "    mip_gap_abs=0.0001,\n",
    "    mip_gap=0.001,\n",
    "    retrieve_all_solution=False,\n",
    "    n_solutions_max=10000,\n",
    ")\n",
    "results_big_cbc = lp_solver_cbc.solve(parameters_milp=params_milp)"
   ]
  },
  {
   "cell_type": "code",
   "execution_count": null,
   "id": "ffc90f8e",
   "metadata": {},
   "outputs": [],
   "source": [
    "print(results_big_cbc.get_best_solution())"
   ]
  },
  {
   "cell_type": "markdown",
   "id": "8a0551cc",
   "metadata": {},
   "source": [
    "#### LNS solver\n",
    "\n",
    "[small description needed. Why only for bigger problem? explanation about params_cp choice]"
   ]
  },
  {
   "cell_type": "code",
   "execution_count": null,
   "id": "62e365c1",
   "metadata": {},
   "outputs": [],
   "source": [
    "params_objective_function = get_default_objective_setup(problem=big_model)\n",
    "params_cp = ParametersCP.default()\n",
    "params_cp.TimeLimit = 10\n",
    "params_cp.TimeLimit_iter0 = 1\n",
    "solver = CPKnapsackMZN2(\n",
    "    big_model,\n",
    "    cp_solver_name=CPSolverName.GECODE,\n",
    "    params_objective_function=params_objective_function,\n",
    ")\n",
    "solver.init_model()\n",
    "initial_solution_provider = InitialKnapsackSolution(\n",
    "    problem=big_model,\n",
    "    initial_method=InitialKnapsackMethod.DUMMY,\n",
    "    params_objective_function=params_objective_function,\n",
    ")\n",
    "constraint_handler = ConstraintHandlerKnapsack(problem=big_model, fraction_to_fix=0.8)\n",
    "lns_solver = LNS_CP(\n",
    "    problem=big_model,\n",
    "    cp_solver=solver,\n",
    "    initial_solution_provider=initial_solution_provider,\n",
    "    constraint_handler=constraint_handler,\n",
    "    params_objective_function=params_objective_function,\n",
    ")\n",
    "result_store = lns_solver.solve_lns(parameters_cp=params_cp, nb_iteration_lns=200)"
   ]
  },
  {
   "cell_type": "markdown",
   "id": "2a2f1fa2",
   "metadata": {},
   "source": [
    "## Conclusion"
   ]
  }
 ],
 "metadata": {
  "kernelspec": {
   "display_name": "Python 3 (ipykernel)",
   "language": "python",
   "name": "python3"
  },
  "language_info": {
   "codemirror_mode": {
    "name": "ipython",
    "version": 3
   },
   "file_extension": ".py",
   "mimetype": "text/x-python",
   "name": "python",
   "nbconvert_exporter": "python",
   "pygments_lexer": "ipython3",
   "version": "3.8.11"
  },
  "toc": {
   "base_numbering": 1,
   "nav_menu": {},
   "number_sections": true,
   "sideBar": true,
   "skip_h1_title": true,
   "title_cell": "Table of Contents",
   "title_sidebar": "Contents",
   "toc_cell": false,
   "toc_position": {
    "height": "calc(100% - 180px)",
    "left": "10px",
    "top": "150px",
    "width": "512px"
   },
   "toc_section_display": true,
   "toc_window_display": true
  }
 },
 "nbformat": 4,
 "nbformat_minor": 5
}
